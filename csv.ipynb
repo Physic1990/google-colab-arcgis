{
  "nbformat": 4,
  "nbformat_minor": 0,
  "metadata": {
    "colab": {
      "provenance": [],
      "authorship_tag": "ABX9TyOPSwCEDBD+d5CWyZXX7smn",
      "include_colab_link": true
    },
    "kernelspec": {
      "name": "python3",
      "display_name": "Python 3"
    },
    "language_info": {
      "name": "python"
    }
  },
  "cells": [
    {
      "cell_type": "markdown",
      "metadata": {
        "id": "view-in-github",
        "colab_type": "text"
      },
      "source": [
        "<a href=\"https://colab.research.google.com/github/Physic1990/google-colab-arcgis/blob/main/csv.ipynb\" target=\"_parent\"><img src=\"https://colab.research.google.com/assets/colab-badge.svg\" alt=\"Open In Colab\"/></a>"
      ]
    },
    {
      "cell_type": "code",
      "execution_count": null,
      "metadata": {
        "id": "hY6uQtwJunIe"
      },
      "outputs": [],
      "source": [
        "!pip install arcgis"
      ]
    },
    {
      "cell_type": "code",
      "source": [
        "from google.colab import drive\n",
        "drive.mount('/content/drive')"
      ],
      "metadata": {
        "colab": {
          "base_uri": "https://localhost:8080/"
        },
        "id": "U26w4ya_dfAm",
        "outputId": "280108ce-854b-4fba-bdf0-8ce2b4efc415"
      },
      "execution_count": null,
      "outputs": [
        {
          "output_type": "stream",
          "name": "stdout",
          "text": [
            "Mounted at /content/drive\n"
          ]
        }
      ]
    },
    {
      "cell_type": "code",
      "source": [
        "from arcgis.gis import GIS\n",
        "from arcgis.features import FeatureLayerCollection"
      ],
      "metadata": {
        "id": "76VXmXMVdfDj"
      },
      "execution_count": null,
      "outputs": []
    },
    {
      "cell_type": "code",
      "source": [
        "# Establish a connection to an ArcGIS Online portal using a specified username\n",
        "portal = GIS(username=\"sniraula_arcgis_devlabs\")"
      ],
      "metadata": {
        "colab": {
          "base_uri": "https://localhost:8080/"
        },
        "id": "mkRxF7OpdfGd",
        "outputId": "028de78f-5aab-40d0-841a-50146efd2c5e"
      },
      "execution_count": null,
      "outputs": [
        {
          "name": "stdout",
          "output_type": "stream",
          "text": [
            "Enter password: ··········\n"
          ]
        }
      ]
    },
    {
      "cell_type": "code",
      "source": [
        "import pandas as pd\n",
        "\n",
        "csv_path = \"/content/drive/MyDrive/COVID-data/owid-covid-data.csv\"\n",
        "csv_data = pd.read_csv(csv_path)\n",
        "\n",
        "csv_data.head()"
      ],
      "metadata": {
        "id": "mUOuusjtfhAT"
      },
      "execution_count": null,
      "outputs": []
    },
    {
      "cell_type": "code",
      "source": [
        "import os\n",
        "item_properties = {\n",
        "    \"title\": \"COVID Data\",\n",
        "    \"tags\": \"csv, data\",\n",
        "    \"type\": \"CSV\"\n",
        "}\n",
        "\n",
        "# Add the CSV file to ArcGIS Online\n",
        "csv_item = portal.content.add(item_properties, data=csv_path)\n",
        "csv_layer = csv_item.publish()\n"
      ],
      "metadata": {
        "id": "jmtFgNtBfyHN"
      },
      "execution_count": null,
      "outputs": []
    }
  ]
}